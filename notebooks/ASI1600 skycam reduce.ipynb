{
 "cells": [
  {
   "cell_type": "code",
   "execution_count": 1,
   "metadata": {},
   "outputs": [
    {
     "name": "stderr",
     "output_type": "stream",
     "text": [
      "WARNING: AstropyDeprecationWarning: astropy.extern.six will be removed in 4.0, use the six module directly if it is still needed [astropy.extern.six]\n",
      "WARNING: AstropyDeprecationWarning: Composition of model classes will be removed in 4.0 (but composition of model instances is not affected) [astropy.modeling.core]\n"
     ]
    }
   ],
   "source": [
    "from datetime import datetime\n",
    "\n",
    "import time\n",
    "import os\n",
    "import sys\n",
    "from pathlib import Path\n",
    "\n",
    "import numpy as np\n",
    "from scipy.stats import lognorm\n",
    "import pandas as pd\n",
    "\n",
    "from astropy import stats\n",
    "from astropy.io import fits\n",
    "from astropy.nddata import CCDData\n",
    "import astropy.units as u\n",
    "from astropy.convolution import Gaussian2DKernel\n",
    "from astropy.stats import gaussian_fwhm_to_sigma\n",
    "from astropy.table import Table\n",
    "from astropy.wcs import WCS\n",
    "from astropy.coordinates import SkyCoord\n",
    "\n",
    "import ccdproc\n",
    "import photutils\n",
    "\n",
    "import matplotlib\n",
    "matplotlib.use('nbagg')\n",
    "import matplotlib.pyplot as plt\n",
    "\n",
    "from mmtwfs.wfs import wfs_norm\n",
    "from skycam_utils.photometry import make_background, make_segmentation_image, load_bright_star_catalog"
   ]
  },
  {
   "cell_type": "code",
   "execution_count": null,
   "metadata": {},
   "outputs": [],
   "source": [
    "%load_ext autoreload\n",
    "%autoreload 2"
   ]
  },
  {
   "cell_type": "code",
   "execution_count": null,
   "metadata": {},
   "outputs": [],
   "source": [
    "%cd /Users/tim/MMT/sky_brightness/asi_skycam/Bias/"
   ]
  },
  {
   "cell_type": "code",
   "execution_count": null,
   "metadata": {},
   "outputs": [],
   "source": [
    "biases = ccdproc.ImageFileCollection('.', keywords=\"*\", glob_include=\"Bias*\")"
   ]
  },
  {
   "cell_type": "code",
   "execution_count": null,
   "metadata": {},
   "outputs": [],
   "source": [
    "for h in biases.hdus(save_location='reduced', overwrite=True, ccd_kwargs={'unit': 'adu', 'gain': 1.0}):\n",
    "    h.header['fixscale'] = True\n",
    "    h.data = h.data / 16"
   ]
  },
  {
   "cell_type": "code",
   "execution_count": null,
   "metadata": {},
   "outputs": [],
   "source": [
    "scaled_biases = ccdproc.ImageFileCollection('./reduced', keywords=\"*\", glob_include=\"Bias_*\")"
   ]
  },
  {
   "cell_type": "code",
   "execution_count": null,
   "metadata": {},
   "outputs": [],
   "source": [
    "bias = ccdproc.combine(\n",
    "    list(scaled_biases.ccds(ccd_kwargs={'unit': 'adu'})),\n",
    "    method='average',\n",
    "    mem_limit=1e9,\n",
    "    clip_extreme=True,\n",
    "    nlow=2,\n",
    "    nhigh=2,\n",
    "    dtype=np.float64\n",
    ")\n",
    "bias.write(\"./bias.fits\", overwrite=True)"
   ]
  },
  {
   "cell_type": "code",
   "execution_count": null,
   "metadata": {},
   "outputs": [],
   "source": [
    "%cd ../Light"
   ]
  },
  {
   "cell_type": "code",
   "execution_count": null,
   "metadata": {},
   "outputs": [],
   "source": [
    "filters = ['clear', 'u', 'g', 'r', 'i']\n",
    "#filters = ['u']\n",
    "for f in filters:\n",
    "    rpath = f\"{f}/reduced\"\n",
    "    if not Path.exists(Path(rpath)):\n",
    "        Path.mkdir(Path(rpath))\n",
    "    ic = ccdproc.ImageFileCollection(f\"./{f}\", keywords=\"*\", glob_include=\"Light_*\")\n",
    "    for h in ic.hdus(save_location=rpath, overwrite=True, ccd_kwargs={'unit': u.adu, 'gain': 1.0}):\n",
    "        h.header['fixscale'] = True\n",
    "        h.data = h.data / 16\n",
    "        h.data = h.data - bias.data"
   ]
  },
  {
   "cell_type": "code",
   "execution_count": null,
   "metadata": {},
   "outputs": [],
   "source": [
    "test_im = CCDData.read(Path(\"./r/reduced/Light_024.fits\"), unit=u.adu, gain=1.0)\n",
    "test_im.header['GAIN'] = 1.0"
   ]
  },
  {
   "cell_type": "code",
   "execution_count": null,
   "metadata": {},
   "outputs": [],
   "source": [
    "sigma = 3.0 * gaussian_fwhm_to_sigma\n",
    "kernel = Gaussian2DKernel(sigma, x_size=3, y_size=3)\n",
    "kernel.normalize()\n",
    "npixels = 5\n",
    "threshold = photutils.detect_threshold(test_im.data, snr=5.)\n",
    "segm = photutils.detect_sources(test_im.data, threshold, npixels=npixels, filter_kernel=kernel)\n",
    "segm.remove_border_labels(border_width=10)\n",
    "#segm = photutils.deblend_sources(test_im.data, segm_raw, npixels=npixels, filter_kernel=kernel, nlevels=32, contrast=0.001)"
   ]
  },
  {
   "cell_type": "code",
   "execution_count": null,
   "metadata": {},
   "outputs": [],
   "source": [
    "plt.imshow(segm, cmap=segm.cmap(random_state=12345))\n",
    "plt.show()"
   ]
  },
  {
   "cell_type": "code",
   "execution_count": null,
   "metadata": {},
   "outputs": [],
   "source": [
    "bkg = make_background(test_im.data, boxsize=(7, 7), filter_size=(5, 5))"
   ]
  },
  {
   "cell_type": "code",
   "execution_count": null,
   "metadata": {},
   "outputs": [],
   "source": [
    "plt.imshow(bkg.background, cmap='Greys_r', norm=wfs_norm(bkg.background))\n",
    "plt.show()"
   ]
  },
  {
   "cell_type": "code",
   "execution_count": null,
   "metadata": {},
   "outputs": [],
   "source": [
    "fits.writeto('bkg.fits', bkg.background, overwrite=True)"
   ]
  },
  {
   "cell_type": "code",
   "execution_count": null,
   "metadata": {},
   "outputs": [],
   "source": [
    "diff = test_im.data - bkg.background\n",
    "fits.writeto('diff.fits', diff, overwrite=True)"
   ]
  },
  {
   "cell_type": "code",
   "execution_count": null,
   "metadata": {},
   "outputs": [],
   "source": [
    "xmid = int(diff.shape[1]/2)\n",
    "ymid = int(diff.shape[0]/2)\n",
    "xl = xmid - 900\n",
    "xu = xmid + 900\n",
    "yl = ymid - 900\n",
    "yu = ymid + 900\n",
    "fits.writeto(\"diff_trim.fits\", diff[yl:yu,xl:xu], overwrite=True)"
   ]
  },
  {
   "cell_type": "code",
   "execution_count": null,
   "metadata": {},
   "outputs": [],
   "source": [
    "0.0373412253334 * 3600"
   ]
  },
  {
   "cell_type": "code",
   "execution_count": null,
   "metadata": {},
   "outputs": [],
   "source": [
    "diff_trim_hdul = fits.open(\"diff_trim.new\")\n",
    "diff_trim = diff_trim_hdul[0].data\n",
    "w = WCS(diff_trim_hdul[0])"
   ]
  },
  {
   "cell_type": "code",
   "execution_count": null,
   "metadata": {},
   "outputs": [],
   "source": [
    "sigma = 2.0 * gaussian_fwhm_to_sigma\n",
    "kernel = Gaussian2DKernel(sigma, x_size=5, y_size=5)\n",
    "kernel.normalize()\n",
    "npixels = 7\n",
    "threshold = photutils.detect_threshold(diff_trim, snr=5.)\n",
    "segm_raw = photutils.detect_sources(diff_trim, threshold, npixels=npixels, filter_kernel=kernel)\n",
    "segm_trim = photutils.deblend_sources(diff_trim, segm_raw, npixels=npixels, filter_kernel=kernel, nlevels=32, contrast=0.001)"
   ]
  },
  {
   "cell_type": "code",
   "execution_count": null,
   "metadata": {},
   "outputs": [],
   "source": [
    "plt.imshow(segm_trim, cmap=segm.cmap(random_state=12345))\n",
    "plt.show()"
   ]
  },
  {
   "cell_type": "code",
   "execution_count": null,
   "metadata": {},
   "outputs": [],
   "source": [
    "cat_trim = photutils.source_properties(diff_trim, segm_trim, wcs=w)"
   ]
  },
  {
   "cell_type": "code",
   "execution_count": null,
   "metadata": {},
   "outputs": [],
   "source": [
    "t_trim = cat_trim.to_table()\n",
    "t_trim.write(\"diff_trim_cat.csv\", overwrite=True)"
   ]
  },
  {
   "cell_type": "code",
   "execution_count": null,
   "metadata": {},
   "outputs": [],
   "source": [
    "phot_cat = Table.read(\"bright_star_sloan.fits\")"
   ]
  },
  {
   "cell_type": "code",
   "execution_count": null,
   "metadata": {},
   "outputs": [],
   "source": [
    "t_trim[0]['sky_centroid_icrs']"
   ]
  },
  {
   "cell_type": "code",
   "execution_count": null,
   "metadata": {},
   "outputs": [],
   "source": [
    "phot_cat['coords'] = SkyCoord(phot_cat['_RAJ2000'], phot_cat['_DEJ2000'], frame='icrs', unit='deg')"
   ]
  },
  {
   "cell_type": "code",
   "execution_count": null,
   "metadata": {},
   "outputs": [],
   "source": [
    "idx, d2d, d3d = t_trim['sky_centroid_icrs'].match_to_catalog_sky(phot_cat['coords'])"
   ]
  },
  {
   "cell_type": "code",
   "execution_count": null,
   "metadata": {},
   "outputs": [],
   "source": [
    "max_sep = 10. * u.arcmin\n",
    "sep_constraint = d2d < max_sep\n",
    "c_matches = t_trim[sep_constraint]\n",
    "phot_matches = phot_cat[idx[sep_constraint]]"
   ]
  },
  {
   "cell_type": "code",
   "execution_count": null,
   "metadata": {},
   "outputs": [],
   "source": [
    "phot_matches"
   ]
  },
  {
   "cell_type": "code",
   "execution_count": null,
   "metadata": {},
   "outputs": [],
   "source": [
    "c_matches['obs_mag'] = -2.5 * np.log10(c_matches['source_sum'])\n",
    "phot_off = phot_matches['r_mag'] - c_matches['obs_mag']\n",
    "cut = phot_matches['r_mag'] < 3.5\n",
    "plt.scatter(phot_matches['r_mag'][cut], phot_off[cut])\n",
    "#plt.scatter(phot_matches['r_mag'], c_matches['obs_mag'])\n",
    "plt.show()"
   ]
  },
  {
   "cell_type": "code",
   "execution_count": null,
   "metadata": {},
   "outputs": [],
   "source": [
    "r_zp = phot_off[cut].mean()"
   ]
  },
  {
   "cell_type": "code",
   "execution_count": null,
   "metadata": {},
   "outputs": [],
   "source": [
    "sky_mag = r_zp + (-2.5 * np.log10(11.2/137.**2))\n",
    "sky_mag"
   ]
  },
  {
   "cell_type": "code",
   "execution_count": null,
   "metadata": {},
   "outputs": [],
   "source": [
    "c_matches.columns"
   ]
  },
  {
   "cell_type": "code",
   "execution_count": null,
   "metadata": {},
   "outputs": [],
   "source": [
    "plt.scatter(phot_matches['r_mag'], c_matches['max_value'])\n",
    "plt.show()"
   ]
  },
  {
   "cell_type": "code",
   "execution_count": null,
   "metadata": {},
   "outputs": [],
   "source": [
    "t_trim.show_in_notebook()"
   ]
  },
  {
   "cell_type": "code",
   "execution_count": null,
   "metadata": {},
   "outputs": [],
   "source": [
    "type(Path(\"diff_trim.new\"))"
   ]
  },
  {
   "cell_type": "code",
   "execution_count": null,
   "metadata": {},
   "outputs": [],
   "source": [
    "p = Path(\"./r/reduced/Light_024.fits\")"
   ]
  },
  {
   "cell_type": "code",
   "execution_count": null,
   "metadata": {},
   "outputs": [],
   "source": [
    "p.with_suffix(\".trimmed.fits\")"
   ]
  },
  {
   "cell_type": "code",
   "execution_count": null,
   "metadata": {},
   "outputs": [],
   "source": [
    "s = \"./r/reduced/Light_024.fits\"\n",
    "type(s)\n",
    "isinstance(p, str)"
   ]
  },
  {
   "cell_type": "code",
   "execution_count": null,
   "metadata": {},
   "outputs": [],
   "source": [
    "tt = CCDData.read(\"diff_trim.new\", unit=u.adu)\n",
    "tt.wcs"
   ]
  },
  {
   "cell_type": "code",
   "execution_count": null,
   "metadata": {},
   "outputs": [],
   "source": [
    "import astropy.wcs as w"
   ]
  },
  {
   "cell_type": "code",
   "execution_count": null,
   "metadata": {},
   "outputs": [],
   "source": [
    "w.utils.proj_plane_pixel_scales(tt.wcs)"
   ]
  },
  {
   "cell_type": "code",
   "execution_count": null,
   "metadata": {},
   "outputs": [],
   "source": [
    "tt.shape"
   ]
  },
  {
   "cell_type": "code",
   "execution_count": null,
   "metadata": {},
   "outputs": [],
   "source": [
    "from astropy.nddata import Cutout2D"
   ]
  },
  {
   "cell_type": "code",
   "execution_count": null,
   "metadata": {},
   "outputs": [],
   "source": [
    "tt_sub = CCDData(Cutout2D(tt, (300, 300), (50, 50)).data, unit=u.adu)"
   ]
  },
  {
   "cell_type": "code",
   "execution_count": null,
   "metadata": {},
   "outputs": [],
   "source": [
    "p.with_suffix(\".trimmed.fits\").with_suffix(\".new\")"
   ]
  },
  {
   "cell_type": "code",
   "execution_count": 2,
   "metadata": {},
   "outputs": [],
   "source": [
    "p_cat = load_bright_star_catalog()"
   ]
  },
  {
   "cell_type": "code",
   "execution_count": 3,
   "metadata": {},
   "outputs": [
    {
     "data": {
      "text/html": [
       "<i>Table masked=True length=3969</i>\n",
       "<table id=\"table120810961272\" class=\"table-striped table-bordered table-condensed\">\n",
       "<thead><tr><th>_RAJ2000</th><th>_DEJ2000</th><th>HD</th><th>Vmag</th><th>U-B</th><th>B-V</th><th>V-R</th><th>R-I</th><th>V-Rc</th><th>Rc-Ic</th><th>u_mag</th><th>e_u_mag</th><th>g_mag</th><th>e_g_mag</th><th>r_mag</th><th>e_r_mag</th><th>i_mag</th><th>e_i_mag</th><th>z_mag</th><th>e_z_mag</th><th>Simbad</th><th>_RA</th><th>_DE</th></tr></thead>\n",
       "<thead><tr><th>deg</th><th>deg</th><th></th><th>mag</th><th>mag</th><th>mag</th><th>mag</th><th>mag</th><th>mag</th><th>mag</th><th>mag</th><th>cmag</th><th>mag</th><th>cmag</th><th>mag</th><th>cmag</th><th>mag</th><th>cmag</th><th>mag</th><th>cmag</th><th></th><th>deg</th><th>deg</th></tr></thead>\n",
       "<thead><tr><th>float64</th><th>float64</th><th>int32</th><th>float32</th><th>float32</th><th>float32</th><th>float32</th><th>float32</th><th>float32</th><th>float32</th><th>float32</th><th>int16</th><th>float32</th><th>int16</th><th>float32</th><th>int16</th><th>float32</th><th>int16</th><th>float32</th><th>int16</th><th>bytes6</th><th>float64</th><th>float64</th></tr></thead>\n",
       "<tr><td>2.3526731</td><td>-45.7474253</td><td>496</td><td>3.88</td><td>0.84</td><td>1.03</td><td>0.75</td><td>0.52</td><td>0.52</td><td>0.47</td><td>6.62</td><td>5</td><td>4.35</td><td>4</td><td>3.55</td><td>4</td><td>3.30</td><td>3</td><td>3.18</td><td>3</td><td>Simbad</td><td>2.35267</td><td>-45.74743</td></tr>\n",
       "<tr><td>2.5801942</td><td>46.0722722</td><td>571</td><td>5.04</td><td>0.26</td><td>0.40</td><td>0.42</td><td>0.29</td><td>0.27</td><td>0.28</td><td>6.65</td><td>9</td><td>5.17</td><td>3</td><td>4.96</td><td>2</td><td>4.91</td><td>2</td><td>4.90</td><td>3</td><td>Simbad</td><td>2.58019</td><td>46.07227</td></tr>\n",
       "<tr><td>3.6506856</td><td>20.2067003</td><td>1013</td><td>4.80</td><td>1.93</td><td>1.57</td><td>1.34</td><td>1.13</td><td>0.90</td><td>1.05</td><td>9.31</td><td>14</td><td>5.57</td><td>5</td><td>4.19</td><td>5</td><td>3.37</td><td>3</td><td>2.88</td><td>3</td><td>Simbad</td><td>3.65069</td><td>20.20670</td></tr>\n",
       "<tr><td>4.2729119</td><td>38.6816361</td><td>1280</td><td>4.61</td><td>0.05</td><td>0.06</td><td>0.08</td><td>0.01</td><td>0.03</td><td>0.03</td><td>5.75</td><td>13</td><td>4.55</td><td>3</td><td>4.71</td><td>2</td><td>4.90</td><td>2</td><td>5.05</td><td>3</td><td>Simbad</td><td>4.27291</td><td>38.68164</td></tr>\n",
       "<tr><td>4.5819061</td><td>36.7852253</td><td>1404</td><td>4.52</td><td>0.07</td><td>0.05</td><td>0.08</td><td>0.00</td><td>0.03</td><td>0.01</td><td>5.68</td><td>14</td><td>4.45</td><td>3</td><td>4.62</td><td>2</td><td>4.83</td><td>2</td><td>4.99</td><td>3</td><td>Simbad</td><td>4.58191</td><td>36.78523</td></tr>\n",
       "<tr><td>4.8569756</td><td>-8.8239197</td><td>1522</td><td>3.55</td><td>1.17</td><td>1.22</td><td>0.85</td><td>0.59</td><td>0.59</td><td>0.52</td><td>6.84</td><td>7</td><td>4.13</td><td>4</td><td>3.15</td><td>5</td><td>2.85</td><td>3</td><td>2.69</td><td>3</td><td>Simbad</td><td>4.85698</td><td>-8.82392</td></tr>\n",
       "<tr><td>5.0177497</td><td>-64.8747931</td><td>1581</td><td>4.23</td><td>0.02</td><td>0.58</td><td>0.49</td><td>0.34</td><td>0.32</td><td>0.33</td><td>5.61</td><td>4</td><td>4.45</td><td>3</td><td>4.09</td><td>2</td><td>3.97</td><td>2</td><td>3.93</td><td>2</td><td>Simbad</td><td>5.01775</td><td>-64.87479</td></tr>\n",
       "<tr><td>6.4377931</td><td>-77.2542461</td><td>2151</td><td>2.80</td><td>0.11</td><td>0.62</td><td>0.50</td><td>0.34</td><td>0.33</td><td>0.34</td><td>4.33</td><td>3</td><td>3.05</td><td>3</td><td>2.64</td><td>2</td><td>2.53</td><td>2</td><td>2.49</td><td>2</td><td>Simbad</td><td>6.43779</td><td>-77.25425</td></tr>\n",
       "<tr><td>6.5710475</td><td>-42.3059872</td><td>2261</td><td>2.40</td><td>0.88</td><td>1.09</td><td>0.81</td><td>0.59</td><td>0.56</td><td>0.52</td><td>5.23</td><td>4</td><td>2.90</td><td>4</td><td>2.04</td><td>4</td><td>1.74</td><td>3</td><td>1.58</td><td>3</td><td>Simbad</td><td>6.57105</td><td>-42.30599</td></tr>\n",
       "<tr><td>...</td><td>...</td><td>...</td><td>...</td><td>...</td><td>...</td><td>...</td><td>...</td><td>...</td><td>...</td><td>...</td><td>...</td><td>...</td><td>...</td><td>...</td><td>...</td><td>...</td><td>...</td><td>...</td><td>...</td><td>...</td><td>...</td><td>...</td></tr>\n",
       "<tr><td>84.1487222</td><td>-6.0647525</td><td>37209</td><td>5.74</td><td>-0.91</td><td>-0.22</td><td>nan</td><td>nan</td><td>nan</td><td>nan</td><td>5.42</td><td>3</td><td>5.52</td><td>2</td><td>5.96</td><td>2</td><td>nan</td><td>0</td><td>nan</td><td>0</td><td>Simbad</td><td>84.14872</td><td>-6.06475</td></tr>\n",
       "<tr><td>84.3639881</td><td>-5.9383908</td><td>37303</td><td>6.06</td><td>-0.92</td><td>-0.21</td><td>nan</td><td>nan</td><td>nan</td><td>nan</td><td>5.73</td><td>4</td><td>5.85</td><td>2</td><td>6.27</td><td>2</td><td>nan</td><td>0</td><td>nan</td><td>0</td><td>Simbad</td><td>84.36399</td><td>-5.93839</td></tr>\n",
       "<tr><td>346.9489442</td><td>63.6334650</td><td>218537</td><td>6.25</td><td>-0.60</td><td>-0.01</td><td>nan</td><td>nan</td><td>nan</td><td>nan</td><td>6.47</td><td>3</td><td>6.15</td><td>3</td><td>6.37</td><td>2</td><td>nan</td><td>0</td><td>nan</td><td>0</td><td>Simbad</td><td>346.94894</td><td>63.63346</td></tr>\n",
       "<tr><td>83.1723058</td><td>-1.5918308</td><td>36591</td><td>5.35</td><td>-0.93</td><td>-0.19</td><td>nan</td><td>nan</td><td>nan</td><td>nan</td><td>5.02</td><td>4</td><td>5.15</td><td>2</td><td>5.55</td><td>2</td><td>nan</td><td>0</td><td>nan</td><td>0</td><td>Simbad</td><td>83.17231</td><td>-1.59183</td></tr>\n",
       "<tr><td>83.2806067</td><td>-1.7173597</td><td>36646</td><td>6.53</td><td>-0.65</td><td>-0.10</td><td>nan</td><td>nan</td><td>nan</td><td>nan</td><td>6.63</td><td>3</td><td>6.38</td><td>2</td><td>6.69</td><td>2</td><td>nan</td><td>0</td><td>nan</td><td>0</td><td>Simbad</td><td>83.28061</td><td>-1.71736</td></tr>\n",
       "<tr><td>83.5162114</td><td>-1.0357269</td><td>36779</td><td>6.20</td><td>-0.81</td><td>-0.16</td><td>nan</td><td>nan</td><td>nan</td><td>nan</td><td>6.05</td><td>3</td><td>6.02</td><td>2</td><td>6.39</td><td>2</td><td>nan</td><td>0</td><td>nan</td><td>0</td><td>Simbad</td><td>83.51621</td><td>-1.03573</td></tr>\n",
       "<tr><td>152.6809281</td><td>-18.7178783</td><td>88318</td><td>6.27</td><td>-0.05</td><td>-0.02</td><td>nan</td><td>nan</td><td>nan</td><td>nan</td><td>7.23</td><td>13</td><td>6.16</td><td>2</td><td>6.39</td><td>2</td><td>nan</td><td>0</td><td>nan</td><td>0</td><td>Simbad</td><td>152.68093</td><td>-18.71788</td></tr>\n",
       "<tr><td>151.7895794</td><td>-17.1417342</td><td>87808</td><td>5.60</td><td>nan</td><td>1.50</td><td>nan</td><td>nan</td><td>nan</td><td>nan</td><td>nan</td><td>0</td><td>6.33</td><td>5</td><td>5.02</td><td>5</td><td>nan</td><td>0</td><td>nan</td><td>0</td><td>Simbad</td><td>151.78958</td><td>-17.14173</td></tr>\n",
       "<tr><td>152.8932389</td><td>-15.0548786</td><td>88437</td><td>6.13</td><td>nan</td><td>0.03</td><td>nan</td><td>nan</td><td>nan</td><td>nan</td><td>nan</td><td>0</td><td>6.05</td><td>3</td><td>6.23</td><td>2</td><td>nan</td><td>0</td><td>nan</td><td>0</td><td>Simbad</td><td>152.89324</td><td>-15.05488</td></tr>\n",
       "<tr><td>156.5226094</td><td>-16.8362897</td><td>90432</td><td>3.79</td><td>1.81</td><td>1.48</td><td>nan</td><td>nan</td><td>nan</td><td>nan</td><td>8.09</td><td>14</td><td>4.51</td><td>4</td><td>3.22</td><td>5</td><td>nan</td><td>0</td><td>nan</td><td>0</td><td>Simbad</td><td>156.52261</td><td>-16.83629</td></tr>\n",
       "</table>"
      ],
      "text/plain": [
       "<Table masked=True length=3969>\n",
       "  _RAJ2000    _DEJ2000    HD     Vmag  ... e_z_mag Simbad    _RA       _DE   \n",
       "    deg         deg              mag   ...   cmag            deg       deg   \n",
       "  float64     float64   int32  float32 ...  int16  bytes6  float64   float64 \n",
       "----------- ----------- ------ ------- ... ------- ------ --------- ---------\n",
       "  2.3526731 -45.7474253    496    3.88 ...       3 Simbad   2.35267 -45.74743\n",
       "  2.5801942  46.0722722    571    5.04 ...       3 Simbad   2.58019  46.07227\n",
       "  3.6506856  20.2067003   1013    4.80 ...       3 Simbad   3.65069  20.20670\n",
       "  4.2729119  38.6816361   1280    4.61 ...       3 Simbad   4.27291  38.68164\n",
       "  4.5819061  36.7852253   1404    4.52 ...       3 Simbad   4.58191  36.78523\n",
       "  4.8569756  -8.8239197   1522    3.55 ...       3 Simbad   4.85698  -8.82392\n",
       "  5.0177497 -64.8747931   1581    4.23 ...       2 Simbad   5.01775 -64.87479\n",
       "  6.4377931 -77.2542461   2151    2.80 ...       2 Simbad   6.43779 -77.25425\n",
       "  6.5710475 -42.3059872   2261    2.40 ...       3 Simbad   6.57105 -42.30599\n",
       "        ...         ...    ...     ... ...     ...    ...       ...       ...\n",
       " 84.1487222  -6.0647525  37209    5.74 ...       0 Simbad  84.14872  -6.06475\n",
       " 84.3639881  -5.9383908  37303    6.06 ...       0 Simbad  84.36399  -5.93839\n",
       "346.9489442  63.6334650 218537    6.25 ...       0 Simbad 346.94894  63.63346\n",
       " 83.1723058  -1.5918308  36591    5.35 ...       0 Simbad  83.17231  -1.59183\n",
       " 83.2806067  -1.7173597  36646    6.53 ...       0 Simbad  83.28061  -1.71736\n",
       " 83.5162114  -1.0357269  36779    6.20 ...       0 Simbad  83.51621  -1.03573\n",
       "152.6809281 -18.7178783  88318    6.27 ...       0 Simbad 152.68093 -18.71788\n",
       "151.7895794 -17.1417342  87808    5.60 ...       0 Simbad 151.78958 -17.14173\n",
       "152.8932389 -15.0548786  88437    6.13 ...       0 Simbad 152.89324 -15.05488\n",
       "156.5226094 -16.8362897  90432    3.79 ...       0 Simbad 156.52261 -16.83629"
      ]
     },
     "execution_count": 3,
     "metadata": {},
     "output_type": "execute_result"
    }
   ],
   "source": [
    "p_cat"
   ]
  },
  {
   "cell_type": "code",
   "execution_count": null,
   "metadata": {},
   "outputs": [],
   "source": []
  }
 ],
 "metadata": {
  "kernelspec": {
   "display_name": "Python 3",
   "language": "python",
   "name": "python3"
  },
  "language_info": {
   "codemirror_mode": {
    "name": "ipython",
    "version": 3
   },
   "file_extension": ".py",
   "mimetype": "text/x-python",
   "name": "python",
   "nbconvert_exporter": "python",
   "pygments_lexer": "ipython3",
   "version": "3.7.3"
  }
 },
 "nbformat": 4,
 "nbformat_minor": 2
}
