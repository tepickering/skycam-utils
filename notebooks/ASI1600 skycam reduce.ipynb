{
 "cells": [
  {
   "cell_type": "code",
   "execution_count": 3,
   "metadata": {},
   "outputs": [],
   "source": [
    "from datetime import datetime\n",
    "\n",
    "import time\n",
    "import os\n",
    "import sys\n",
    "from pathlib import Path\n",
    "\n",
    "import numpy as np\n",
    "from scipy.stats import lognorm\n",
    "import pandas as pd\n",
    "\n",
    "from astropy import stats\n",
    "from astropy.io import fits\n",
    "from astropy.nddata import CCDData, Cutout2D\n",
    "import astropy.units as u\n",
    "from astropy.convolution import Gaussian2DKernel\n",
    "from astropy.stats import gaussian_fwhm_to_sigma\n",
    "from astropy.table import Table\n",
    "from astropy.wcs import WCS\n",
    "from astropy.coordinates import SkyCoord\n",
    "\n",
    "import ccdproc\n",
    "import photutils\n",
    "\n",
    "import matplotlib\n",
    "matplotlib.use('nbagg')\n",
    "import matplotlib.pyplot as plt\n",
    "\n",
    "from mmtwfs.wfs import wfs_norm\n",
    "from skycam_utils.photometry import make_background, make_segmentation_image, load_bright_star_catalog\n",
    "from skycam_utils.pipeline import process_image"
   ]
  },
  {
   "cell_type": "code",
   "execution_count": 4,
   "metadata": {},
   "outputs": [
    {
     "name": "stdout",
     "output_type": "stream",
     "text": [
      "The autoreload extension is already loaded. To reload it, use:\n",
      "  %reload_ext autoreload\n"
     ]
    }
   ],
   "source": [
    "%load_ext autoreload\n",
    "%autoreload 2"
   ]
  },
  {
   "cell_type": "code",
   "execution_count": 5,
   "metadata": {},
   "outputs": [
    {
     "name": "stdout",
     "output_type": "stream",
     "text": [
      "/Volumes/LaCie 8TB/sky_brightness/asi_skycam/Bias\n"
     ]
    }
   ],
   "source": [
    "%cd /Users/tim/MMT/sky_brightness/asi_skycam/Bias/"
   ]
  },
  {
   "cell_type": "code",
   "execution_count": null,
   "metadata": {},
   "outputs": [],
   "source": [
    "biases = ccdproc.ImageFileCollection('.', keywords=\"*\", glob_include=\"Bias*\")"
   ]
  },
  {
   "cell_type": "code",
   "execution_count": null,
   "metadata": {},
   "outputs": [],
   "source": [
    "for h in biases.hdus(save_location='reduced', overwrite=True, ccd_kwargs={'unit': 'adu', 'gain': 1.0}):\n",
    "    h.header['fixscale'] = True\n",
    "    h.data = h.data / 16"
   ]
  },
  {
   "cell_type": "code",
   "execution_count": null,
   "metadata": {},
   "outputs": [],
   "source": [
    "scaled_biases = ccdproc.ImageFileCollection('./reduced', keywords=\"*\", glob_include=\"Bias_*\")"
   ]
  },
  {
   "cell_type": "code",
   "execution_count": null,
   "metadata": {},
   "outputs": [],
   "source": [
    "bias = ccdproc.combine(\n",
    "    list(scaled_biases.ccds(ccd_kwargs={'unit': 'adu'})),\n",
    "    method='average',\n",
    "    mem_limit=1e9,\n",
    "    clip_extreme=True,\n",
    "    nlow=2,\n",
    "    nhigh=2,\n",
    "    dtype=np.float64\n",
    ")\n",
    "bias.write(\"./bias.fits\", overwrite=True)"
   ]
  },
  {
   "cell_type": "code",
   "execution_count": 6,
   "metadata": {},
   "outputs": [
    {
     "name": "stdout",
     "output_type": "stream",
     "text": [
      "/Volumes/LaCie 8TB/sky_brightness/asi_skycam/Light\n"
     ]
    }
   ],
   "source": [
    "%cd ../Light"
   ]
  },
  {
   "cell_type": "code",
   "execution_count": null,
   "metadata": {},
   "outputs": [],
   "source": [
    "filters = ['clear', 'u', 'g', 'r', 'i']\n",
    "#filters = ['u']\n",
    "for f in filters:\n",
    "    rpath = f\"{f}/reduced\"\n",
    "    if not Path.exists(Path(rpath)):\n",
    "        Path.mkdir(Path(rpath))\n",
    "    ic = ccdproc.ImageFileCollection(f\"./{f}\", keywords=\"*\", glob_include=\"Light_*\")\n",
    "    for h in ic.hdus(save_location=rpath, overwrite=True, ccd_kwargs={'unit': u.adu, 'gain': 1.0}):\n",
    "        h.header['fixscale'] = True\n",
    "        h.data = h.data / 16\n",
    "        h.data = h.data - bias.data"
   ]
  },
  {
   "cell_type": "code",
   "execution_count": null,
   "metadata": {},
   "outputs": [],
   "source": [
    "test_im = CCDData.read(Path(\"./r/reduced/Light_024.fits\"), unit=u.adu)\n",
    "test_im.header['FILTER']"
   ]
  },
  {
   "cell_type": "code",
   "execution_count": null,
   "metadata": {},
   "outputs": [],
   "source": [
    "Cutout2D(test_im, (300, 300), (100, 100), copy=True).data"
   ]
  },
  {
   "cell_type": "code",
   "execution_count": null,
   "metadata": {},
   "outputs": [],
   "source": [
    "g_cat = process_image(\"./g/reduced/Light_024.fits\")"
   ]
  },
  {
   "cell_type": "code",
   "execution_count": null,
   "metadata": {},
   "outputs": [],
   "source": [
    "sigma = 3.0 * gaussian_fwhm_to_sigma\n",
    "kernel = Gaussian2DKernel(sigma, x_size=3, y_size=3)\n",
    "kernel.normalize()\n",
    "npixels = 5\n",
    "threshold = photutils.detect_threshold(test_im.data, snr=5.)\n",
    "segm = photutils.detect_sources(test_im.data, threshold, npixels=npixels, filter_kernel=kernel)\n",
    "segm.remove_border_labels(border_width=10)\n",
    "#segm = photutils.deblend_sources(test_im.data, segm_raw, npixels=npixels, filter_kernel=kernel, nlevels=32, contrast=0.001)"
   ]
  },
  {
   "cell_type": "code",
   "execution_count": null,
   "metadata": {},
   "outputs": [],
   "source": [
    "plt.imshow(segm, cmap=segm.cmap(random_state=12345))\n",
    "plt.show()"
   ]
  },
  {
   "cell_type": "code",
   "execution_count": null,
   "metadata": {},
   "outputs": [],
   "source": [
    "bkg = make_background(test_im, boxsize=(7, 7), filter_size=(5, 5))"
   ]
  },
  {
   "cell_type": "code",
   "execution_count": null,
   "metadata": {},
   "outputs": [],
   "source": [
    "type(bkg.background)"
   ]
  },
  {
   "cell_type": "code",
   "execution_count": null,
   "metadata": {},
   "outputs": [],
   "source": [
    "plt.imshow(bkg.background, cmap='Greys_r', norm=wfs_norm(bkg.background))\n",
    "plt.show()"
   ]
  },
  {
   "cell_type": "code",
   "execution_count": null,
   "metadata": {},
   "outputs": [],
   "source": [
    "fits.writeto('bkg.fits', bkg.background, overwrite=True)"
   ]
  },
  {
   "cell_type": "code",
   "execution_count": null,
   "metadata": {},
   "outputs": [],
   "source": [
    "diff = test_im.data - bkg.background\n",
    "fits.writeto('diff.fits', diff, overwrite=True)"
   ]
  },
  {
   "cell_type": "code",
   "execution_count": null,
   "metadata": {},
   "outputs": [],
   "source": [
    "xmid = int(diff.shape[1]/2)\n",
    "ymid = int(diff.shape[0]/2)\n",
    "xl = xmid - 900\n",
    "xu = xmid + 900\n",
    "yl = ymid - 900\n",
    "yu = ymid + 900\n",
    "fits.writeto(\"diff_trim.fits\", diff[yl:yu,xl:xu], overwrite=True)"
   ]
  },
  {
   "cell_type": "code",
   "execution_count": null,
   "metadata": {},
   "outputs": [],
   "source": [
    "0.0373412253334 * 3600"
   ]
  },
  {
   "cell_type": "code",
   "execution_count": null,
   "metadata": {},
   "outputs": [],
   "source": [
    "diff_trim_hdul = fits.open(\"diff_trim.new\")\n",
    "diff_trim = diff_trim_hdul[0].data\n",
    "w = WCS(diff_trim_hdul[0])"
   ]
  },
  {
   "cell_type": "code",
   "execution_count": null,
   "metadata": {},
   "outputs": [],
   "source": [
    "sigma = 2.0 * gaussian_fwhm_to_sigma\n",
    "kernel = Gaussian2DKernel(sigma, x_size=5, y_size=5)\n",
    "kernel.normalize()\n",
    "npixels = 7\n",
    "threshold = photutils.detect_threshold(diff_trim, snr=5.)\n",
    "segm_raw = photutils.detect_sources(diff_trim, threshold, npixels=npixels, filter_kernel=kernel)\n",
    "segm_trim = photutils.deblend_sources(diff_trim, segm_raw, npixels=npixels, filter_kernel=kernel, nlevels=32, contrast=0.001)"
   ]
  },
  {
   "cell_type": "code",
   "execution_count": null,
   "metadata": {},
   "outputs": [],
   "source": [
    "plt.imshow(segm_trim, cmap=segm.cmap(random_state=12345))\n",
    "plt.show()"
   ]
  },
  {
   "cell_type": "code",
   "execution_count": null,
   "metadata": {},
   "outputs": [],
   "source": [
    "cat_trim = photutils.source_properties(diff_trim, segm_trim, wcs=w)"
   ]
  },
  {
   "cell_type": "code",
   "execution_count": null,
   "metadata": {},
   "outputs": [],
   "source": [
    "t_trim = cat_trim.to_table()\n",
    "t_trim.write(\"diff_trim_cat.csv\", overwrite=True)"
   ]
  },
  {
   "cell_type": "code",
   "execution_count": null,
   "metadata": {},
   "outputs": [],
   "source": [
    "phot_cat = Table.read(\"bright_star_sloan.fits\")"
   ]
  },
  {
   "cell_type": "code",
   "execution_count": null,
   "metadata": {},
   "outputs": [],
   "source": [
    "t_trim[0]['sky_centroid_icrs']"
   ]
  },
  {
   "cell_type": "code",
   "execution_count": null,
   "metadata": {},
   "outputs": [],
   "source": [
    "phot_cat['coords'] = SkyCoord(phot_cat['_RAJ2000'], phot_cat['_DEJ2000'], frame='icrs', unit='deg')"
   ]
  },
  {
   "cell_type": "code",
   "execution_count": null,
   "metadata": {},
   "outputs": [],
   "source": [
    "idx, d2d, d3d = t_trim['sky_centroid_icrs'].match_to_catalog_sky(phot_cat['coords'])"
   ]
  },
  {
   "cell_type": "code",
   "execution_count": null,
   "metadata": {},
   "outputs": [],
   "source": [
    "max_sep = 10. * u.arcmin\n",
    "sep_constraint = d2d < max_sep\n",
    "c_matches = t_trim[sep_constraint]\n",
    "phot_matches = phot_cat[idx[sep_constraint]]"
   ]
  },
  {
   "cell_type": "code",
   "execution_count": null,
   "metadata": {},
   "outputs": [],
   "source": [
    "phot_matches"
   ]
  },
  {
   "cell_type": "code",
   "execution_count": null,
   "metadata": {},
   "outputs": [],
   "source": [
    "c_matches['obs_mag'] = -2.5 * np.log10(c_matches['source_sum'])\n",
    "phot_off = phot_matches['r_mag'] - c_matches['obs_mag']\n",
    "cut = phot_matches['r_mag'] < 3.5\n",
    "plt.scatter(phot_matches['r_mag'][cut], phot_off[cut])\n",
    "#plt.scatter(phot_matches['r_mag'], c_matches['obs_mag'])\n",
    "plt.show()"
   ]
  },
  {
   "cell_type": "code",
   "execution_count": null,
   "metadata": {},
   "outputs": [],
   "source": [
    "r_zp = phot_off[cut].mean()"
   ]
  },
  {
   "cell_type": "code",
   "execution_count": null,
   "metadata": {},
   "outputs": [],
   "source": [
    "sky_mag = r_zp + (-2.5 * np.log10(11.2/137.**2))\n",
    "sky_mag"
   ]
  },
  {
   "cell_type": "code",
   "execution_count": null,
   "metadata": {},
   "outputs": [],
   "source": [
    "c_matches.columns"
   ]
  },
  {
   "cell_type": "code",
   "execution_count": null,
   "metadata": {},
   "outputs": [],
   "source": [
    "plt.scatter(phot_matches['r_mag'], c_matches['max_value'])\n",
    "plt.show()"
   ]
  },
  {
   "cell_type": "code",
   "execution_count": null,
   "metadata": {},
   "outputs": [],
   "source": [
    "t_trim.show_in_notebook()"
   ]
  },
  {
   "cell_type": "code",
   "execution_count": null,
   "metadata": {},
   "outputs": [],
   "source": [
    "type(Path(\"diff_trim.new\"))"
   ]
  },
  {
   "cell_type": "code",
   "execution_count": null,
   "metadata": {},
   "outputs": [],
   "source": [
    "p = Path(\"./r/reduced/Light_024.fits\")"
   ]
  },
  {
   "cell_type": "code",
   "execution_count": null,
   "metadata": {},
   "outputs": [],
   "source": [
    "p.with_suffix(\".trimmed.fits\")"
   ]
  },
  {
   "cell_type": "code",
   "execution_count": null,
   "metadata": {},
   "outputs": [],
   "source": [
    "s = \"./r/reduced/Light_024.fits\"\n",
    "type(s)\n",
    "isinstance(p, str)"
   ]
  },
  {
   "cell_type": "code",
   "execution_count": null,
   "metadata": {},
   "outputs": [],
   "source": [
    "tt = CCDData.read(\"diff_trim.new\", unit=u.adu)\n",
    "tt.wcs"
   ]
  },
  {
   "cell_type": "code",
   "execution_count": null,
   "metadata": {},
   "outputs": [],
   "source": [
    "import astropy.wcs as w"
   ]
  },
  {
   "cell_type": "code",
   "execution_count": null,
   "metadata": {},
   "outputs": [],
   "source": [
    "w.utils.proj_plane_pixel_scales(tt.wcs)"
   ]
  },
  {
   "cell_type": "code",
   "execution_count": null,
   "metadata": {},
   "outputs": [],
   "source": [
    "0.38 ** 2 * 3600 ** 2, 137**2"
   ]
  },
  {
   "cell_type": "code",
   "execution_count": null,
   "metadata": {},
   "outputs": [],
   "source": []
  },
  {
   "cell_type": "code",
   "execution_count": null,
   "metadata": {},
   "outputs": [],
   "source": [
    "tt_sub = CCDData(Cutout2D(tt, (300, 300), (50, 50)).data, unit=u.adu)"
   ]
  },
  {
   "cell_type": "code",
   "execution_count": null,
   "metadata": {},
   "outputs": [],
   "source": [
    "p.with_suffix(\".trimmed.fits\").with_suffix(\".new\")"
   ]
  },
  {
   "cell_type": "code",
   "execution_count": null,
   "metadata": {},
   "outputs": [],
   "source": [
    "p_cat = load_bright_star_catalog()"
   ]
  },
  {
   "cell_type": "code",
   "execution_count": null,
   "metadata": {},
   "outputs": [],
   "source": [
    "p_cat"
   ]
  },
  {
   "cell_type": "code",
   "execution_count": null,
   "metadata": {},
   "outputs": [],
   "source": []
  }
 ],
 "metadata": {
  "kernelspec": {
   "display_name": "Python 3",
   "language": "python",
   "name": "python3"
  },
  "language_info": {
   "codemirror_mode": {
    "name": "ipython",
    "version": 3
   },
   "file_extension": ".py",
   "mimetype": "text/x-python",
   "name": "python",
   "nbconvert_exporter": "python",
   "pygments_lexer": "ipython3",
   "version": "3.7.3"
  }
 },
 "nbformat": 4,
 "nbformat_minor": 2
}
