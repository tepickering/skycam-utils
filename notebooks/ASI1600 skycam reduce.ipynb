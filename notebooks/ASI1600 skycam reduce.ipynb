{
 "cells": [
  {
   "cell_type": "code",
   "execution_count": 77,
   "metadata": {},
   "outputs": [],
   "source": [
    "from datetime import datetime\n",
    "\n",
    "import time\n",
    "import os\n",
    "import sys\n",
    "from pathlib import Path\n",
    "\n",
    "import numpy as np\n",
    "from scipy.stats import lognorm\n",
    "import pandas as pd\n",
    "\n",
    "from astropy import stats\n",
    "from astropy.io import fits\n",
    "from astropy.nddata import CCDData, Cutout2D\n",
    "import astropy.units as u\n",
    "from astropy.wcs.utils import proj_plane_pixel_scales\n",
    "from astropy.convolution import Gaussian2DKernel\n",
    "from astropy.stats import gaussian_fwhm_to_sigma\n",
    "from astropy.table import Table\n",
    "from astropy.wcs import WCS\n",
    "from astropy.coordinates import SkyCoord\n",
    "\n",
    "import ccdproc\n",
    "import photutils\n",
    "\n",
    "import matplotlib\n",
    "matplotlib.use('nbagg')\n",
    "import matplotlib.pyplot as plt\n",
    "\n",
    "from mmtwfs.wfs import wfs_norm\n",
    "from skycam_utils.photometry import make_background, make_segmentation_image, load_bright_star_catalog, make_catalog\n",
    "from skycam_utils.pipeline import process_image\n",
    "from skycam_utils.astrometry import solve_field"
   ]
  },
  {
   "cell_type": "code",
   "execution_count": 4,
   "metadata": {},
   "outputs": [
    {
     "name": "stdout",
     "output_type": "stream",
     "text": [
      "The autoreload extension is already loaded. To reload it, use:\n",
      "  %reload_ext autoreload\n"
     ]
    }
   ],
   "source": [
    "%load_ext autoreload\n",
    "%autoreload 2"
   ]
  },
  {
   "cell_type": "code",
   "execution_count": 5,
   "metadata": {},
   "outputs": [
    {
     "name": "stdout",
     "output_type": "stream",
     "text": [
      "/Volumes/LaCie 8TB/sky_brightness/asi_skycam/Bias\n"
     ]
    }
   ],
   "source": [
    "%cd /Users/tim/MMT/sky_brightness/asi_skycam/Bias/"
   ]
  },
  {
   "cell_type": "code",
   "execution_count": null,
   "metadata": {},
   "outputs": [],
   "source": [
    "biases = ccdproc.ImageFileCollection('.', keywords=\"*\", glob_include=\"Bias*\")"
   ]
  },
  {
   "cell_type": "code",
   "execution_count": null,
   "metadata": {},
   "outputs": [],
   "source": [
    "for h in biases.hdus(save_location='reduced', overwrite=True, ccd_kwargs={'unit': 'adu', 'gain': 1.0}):\n",
    "    h.header['fixscale'] = True\n",
    "    h.data = h.data / 16"
   ]
  },
  {
   "cell_type": "code",
   "execution_count": null,
   "metadata": {},
   "outputs": [],
   "source": [
    "scaled_biases = ccdproc.ImageFileCollection('./reduced', keywords=\"*\", glob_include=\"Bias_*\")"
   ]
  },
  {
   "cell_type": "code",
   "execution_count": null,
   "metadata": {},
   "outputs": [],
   "source": [
    "bias = ccdproc.combine(\n",
    "    list(scaled_biases.ccds(ccd_kwargs={'unit': 'adu'})),\n",
    "    method='average',\n",
    "    mem_limit=1e9,\n",
    "    clip_extreme=True,\n",
    "    nlow=2,\n",
    "    nhigh=2,\n",
    "    dtype=np.float64\n",
    ")\n",
    "bias.write(\"./bias.fits\", overwrite=True)"
   ]
  },
  {
   "cell_type": "code",
   "execution_count": 6,
   "metadata": {},
   "outputs": [
    {
     "name": "stdout",
     "output_type": "stream",
     "text": [
      "/Volumes/LaCie 8TB/sky_brightness/asi_skycam/Light\n"
     ]
    }
   ],
   "source": [
    "%cd ../Light"
   ]
  },
  {
   "cell_type": "code",
   "execution_count": null,
   "metadata": {},
   "outputs": [],
   "source": [
    "filters = ['clear', 'u', 'g', 'r', 'i']\n",
    "#filters = ['u']\n",
    "for f in filters:\n",
    "    rpath = f\"{f}/reduced\"\n",
    "    if not Path.exists(Path(rpath)):\n",
    "        Path.mkdir(Path(rpath))\n",
    "    ic = ccdproc.ImageFileCollection(f\"./{f}\", keywords=\"*\", glob_include=\"Light_*\")\n",
    "    for h in ic.hdus(save_location=rpath, overwrite=True, ccd_kwargs={'unit': u.adu, 'gain': 1.0}):\n",
    "        h.header['fixscale'] = True\n",
    "        h.data = h.data / 16\n",
    "        h.data = h.data - bias.data"
   ]
  },
  {
   "cell_type": "code",
   "execution_count": null,
   "metadata": {},
   "outputs": [],
   "source": [
    "test_im = CCDData.read(Path(\"./r/reduced/Light_024.fits\"), unit=u.adu)\n",
    "print(test_im.header['FILTER'])\n",
    "Cutout2D(test_im, (300, 300), (100, 100), copy=True).data"
   ]
  },
  {
   "cell_type": "code",
   "execution_count": 15,
   "metadata": {},
   "outputs": [],
   "source": [
    "fitsfile = Path(\"./g/reduced/Light_024.fits\")"
   ]
  },
  {
   "cell_type": "code",
   "execution_count": 9,
   "metadata": {},
   "outputs": [],
   "source": [
    "g_cat = process_image(fitsfile)"
   ]
  },
  {
   "cell_type": "code",
   "execution_count": 16,
   "metadata": {},
   "outputs": [],
   "source": [
    "im = CCDData.read(fitsfile, unit=u.adu)"
   ]
  },
  {
   "cell_type": "code",
   "execution_count": 38,
   "metadata": {},
   "outputs": [],
   "source": [
    "bkg = make_background(im)"
   ]
  },
  {
   "cell_type": "code",
   "execution_count": 39,
   "metadata": {},
   "outputs": [],
   "source": [
    "bkg_image = CCDData(bkg.background, unit=u.adu)\n",
    "bkg_image.write(fitsfile.with_suffix(\".bkg.fits\"), overwrite=True)"
   ]
  },
  {
   "cell_type": "code",
   "execution_count": 40,
   "metadata": {},
   "outputs": [],
   "source": [
    "diff = CCDData(im.data - bkg_image.data, unit=u.adu)\n",
    "diff_fp = fitsfile.with_suffix(\".subt.fits\")\n",
    "diff.write(diff_fp, overwrite=True)"
   ]
  },
  {
   "cell_type": "code",
   "execution_count": 43,
   "metadata": {},
   "outputs": [],
   "source": [
    "solved_fp = solve_field(diff_fp)"
   ]
  },
  {
   "cell_type": "code",
   "execution_count": 44,
   "metadata": {},
   "outputs": [],
   "source": [
    "solved = CCDData.read(solved_fp)"
   ]
  },
  {
   "cell_type": "code",
   "execution_count": 45,
   "metadata": {},
   "outputs": [],
   "source": [
    "segm = make_segmentation_image(solved)"
   ]
  },
  {
   "cell_type": "code",
   "execution_count": 70,
   "metadata": {},
   "outputs": [],
   "source": [
    "s_cat, p_cat = make_catalog(solved, segm, solved.wcs)"
   ]
  },
  {
   "cell_type": "code",
   "execution_count": 71,
   "metadata": {},
   "outputs": [
    {
     "data": {
      "text/html": [
       "<i>QTable length=25</i>\n",
       "<table id=\"table122299809520\" class=\"table-striped table-bordered table-condensed\">\n",
       "<thead><tr><th>id</th><th>xcentroid</th><th>ycentroid</th><th>sky_centroid</th><th>sky_centroid_icrs</th><th>source_sum</th><th>source_sum_err</th><th>background_sum</th><th>background_mean</th><th>background_at_centroid</th><th>xmin</th><th>xmax</th><th>ymin</th><th>ymax</th><th>min_value</th><th>max_value</th><th>minval_xpos</th><th>minval_ypos</th><th>maxval_xpos</th><th>maxval_ypos</th><th>area</th><th>equivalent_radius</th><th>perimeter</th><th>semimajor_axis_sigma</th><th>semiminor_axis_sigma</th><th>eccentricity</th><th>orientation</th><th>ellipticity</th><th>elongation</th><th>covar_sigx2</th><th>covar_sigxy</th><th>covar_sigy2</th><th>cxx</th><th>cxy</th><th>cyy</th><th>obs_mag</th></tr></thead>\n",
       "<thead><tr><th></th><th>pix</th><th>pix</th><th>deg,deg</th><th>deg,deg</th><th></th><th></th><th></th><th></th><th></th><th>pix</th><th>pix</th><th>pix</th><th>pix</th><th></th><th></th><th>pix</th><th>pix</th><th>pix</th><th>pix</th><th>pix2</th><th>pix</th><th>pix</th><th>pix</th><th>pix</th><th></th><th>rad</th><th></th><th></th><th>pix2</th><th>pix2</th><th>pix2</th><th>1 / pix2</th><th>1 / pix2</th><th>1 / pix2</th><th></th></tr></thead>\n",
       "<thead><tr><th>int64</th><th>float64</th><th>float64</th><th>object</th><th>object</th><th>float64</th><th>object</th><th>object</th><th>object</th><th>object</th><th>float64</th><th>float64</th><th>float64</th><th>float64</th><th>float64</th><th>float64</th><th>float64</th><th>float64</th><th>float64</th><th>float64</th><th>float64</th><th>float64</th><th>float64</th><th>float64</th><th>float64</th><th>float64</th><th>float64</th><th>float64</th><th>float64</th><th>float64</th><th>float64</th><th>float64</th><th>float64</th><th>float64</th><th>float64</th><th>float64</th></tr></thead>\n",
       "<tr><td>79</td><td>398.4683022458725</td><td>239.2343571759362</td><td>285.28093708055434,46.92316313080607</td><td>285.2809317692016,46.923157132260805</td><td>304.0278288559083</td><td>None</td><td>None</td><td>None</td><td>None</td><td>397.0</td><td>400.0</td><td>238.0</td><td>240.0</td><td>17.456186203683593</td><td>68.16248052811788</td><td>397.0</td><td>239.0</td><td>399.0</td><td>240.0</td><td>8.0</td><td>1.5957691216057308</td><td>8.242640687119284</td><td>1.0333257196735757</td><td>0.4806123555890215</td><td>0.8852517609727032</td><td>0.6695872652993615</td><td>0.5348878418115389</td><td>2.1500190489426103</td><td>0.7454184939355083</td><td>0.4072140407040448</td><td>0.5533317853482326</td><td>2.243475220442175</td><td>-3.302086140454444</td><td>3.022287828542472</td><td>-6.207283345250553</td></tr>\n",
       "<tr><td>218</td><td>1191.07912285869</td><td>581.963241947118</td><td>240.68687209062202,46.03195229342615</td><td>240.6868708200728,46.03194871099587</td><td>4625.161627036523</td><td>None</td><td>None</td><td>None</td><td>None</td><td>1187.0</td><td>1195.0</td><td>577.0</td><td>586.0</td><td>12.62231728848869</td><td>214.23324519225326</td><td>1187.0</td><td>584.0</td><td>1191.0</td><td>582.0</td><td>68.0</td><td>4.652426491681278</td><td>28.14213562373095</td><td>2.174237411278099</td><td>1.601902956697451</td><td>0.6761484335832841</td><td>-0.983452360437135</td><td>0.2632345720903625</td><td>1.3572840990072184</td><td>3.229768787566617</td><td>-0.9969356073429708</td><td>4.0636326157107066</td><td>0.3349871153509672</td><td>0.16436553934690704</td><td>0.266247230424965</td><td>-9.16281728458147</td></tr>\n",
       "<tr><td>245</td><td>1026.8677052665507</td><td>651.3464757578001</td><td>248.60329297267074,42.51587052164379</td><td>248.6032906183529,42.515866297050245</td><td>7657.345655480172</td><td>None</td><td>None</td><td>None</td><td>None</td><td>1022.0</td><td>1031.0</td><td>646.0</td><td>656.0</td><td>14.452655846063518</td><td>447.9549246499642</td><td>1024.0</td><td>647.0</td><td>1027.0</td><td>651.0</td><td>88.0</td><td>5.292567428401227</td><td>32.14213562373095</td><td>2.026969578353114</td><td>1.828513744616117</td><td>0.4315430420526512</td><td>-1.4657453860220435</td><td>0.0979076528115631</td><td>1.1085339578777196</td><td>3.35187538896576</td><td>-0.07978895325244781</td><td>4.100192796853295</td><td>0.2984787097000499</td><td>0.011616675115075265</td><td>0.24400399950501384</td><td>-9.710195629384145</td></tr>\n",
       "<tr><td>250</td><td>584.7127189428252</td><td>655.2729073337395</td><td>269.14345222381286,37.24376807173477</td><td>269.14344784704247,37.24376258236244</td><td>4818.7461546308905</td><td>None</td><td>None</td><td>None</td><td>None</td><td>578.0</td><td>589.0</td><td>651.0</td><td>659.0</td><td>4.253328451287027</td><td>305.2071967655674</td><td>589.0</td><td>655.0</td><td>586.0</td><td>656.0</td><td>83.0</td><td>5.140011726956917</td><td>31.556349186104043</td><td>2.5518869448718915</td><td>1.7695205223820605</td><td>0.7205369892061134</td><td>0.4335120805527364</td><td>0.30658349660122075</td><td>1.4421346984078147</td><td>5.915559893443587</td><td>1.2888195181295714</td><td>3.7277699650952885</td><td>0.18281635132806634</td><td>-0.12641192135299692</td><td>0.2901093913809559</td><td>-9.207335122068255</td></tr>\n",
       "<tr><td>254</td><td>1221.242634493326</td><td>663.8990316220561</td><td>238.62191660737247,43.12275760563621</td><td>238.62191496291064,43.12275420246672</td><td>457.44929208001315</td><td>None</td><td>None</td><td>None</td><td>None</td><td>1220.0</td><td>1223.0</td><td>662.0</td><td>666.0</td><td>18.534740221720764</td><td>48.57793451964358</td><td>1223.0</td><td>664.0</td><td>1222.0</td><td>664.0</td><td>14.0</td><td>2.111004122822376</td><td>11.071067811865476</td><td>1.1068453510264817</td><td>0.8631089128320462</td><td>0.6260389531557466</td><td>-1.1228303224293164</td><td>0.22020821424456083</td><td>1.2823936059178023</td><td>0.8350351357533122</td><td>-0.1874484326440806</td><td>1.1350284907457404</td><td>1.2436600100595465</td><td>0.4107775646664458</td><td>0.9149548348770701</td><td>-6.650857399610732</td></tr>\n",
       "<tr><td>259</td><td>1229.6795089657585</td><td>682.558011960729</td><td>238.09758088249532,42.45840932047295</td><td>238.0975791578943,42.45840596353454</td><td>3804.2293830307253</td><td>None</td><td>None</td><td>None</td><td>None</td><td>1226.0</td><td>1234.0</td><td>678.0</td><td>687.0</td><td>13.040777943117257</td><td>200.20312841673956</td><td>1233.0</td><td>685.0</td><td>1230.0</td><td>683.0</td><td>71.0</td><td>4.753945931439391</td><td>28.72792206135785</td><td>2.2233507303344044</td><td>1.709351217381155</td><td>0.6394681124647819</td><td>-0.8240958391284775</td><td>0.2311823797930168</td><td>1.300698597062301</td><td>3.854439349552967</td><td>-1.0076778763409433</td><td>4.010730704887999</td><td>0.277680214902017</td><td>0.1395317860226047</td><td>0.2668594891215832</td><td>-8.950666739105243</td></tr>\n",
       "<tr><td>268</td><td>962.5859842170292</td><td>733.4844321977853</td><td>250.8791870946856,38.9342437152057</td><td>250.87918412588982,38.934239320397126</td><td>9391.501663129988</td><td>None</td><td>None</td><td>None</td><td>None</td><td>957.0</td><td>967.0</td><td>729.0</td><td>739.0</td><td>6.208767564425292</td><td>518.7865993631098</td><td>959.0</td><td>738.0</td><td>963.0</td><td>733.0</td><td>99.0</td><td>5.613615477764332</td><td>34.14213562373095</td><td>2.174436017274031</td><td>1.9867720185980569</td><td>0.40639987350938056</td><td>0.6227206654761143</td><td>0.08630467725200675</td><td>1.0944567353069514</td><td>4.462524411930218</td><td>0.36997017919863134</td><td>4.212910635172531</td><td>0.22573188648989234</td><td>-0.03964673059915994</td><td>0.23910643762586056</td><td>-9.93183759937376</td></tr>\n",
       "<tr><td>269</td><td>1331.785327806287</td><td>732.684791046179</td><td>232.90836080106655,40.83660307108708</td><td>232.90835906399974,40.836600186215165</td><td>4267.871178442254</td><td>None</td><td>None</td><td>None</td><td>None</td><td>1327.0</td><td>1337.0</td><td>729.0</td><td>737.0</td><td>14.261716853430025</td><td>208.77794921074553</td><td>1335.0</td><td>736.0</td><td>1330.0</td><td>732.0</td><td>78.0</td><td>4.982787485166879</td><td>31.31370849898476</td><td>2.420055234007502</td><td>1.852042708520432</td><td>0.6436863187902371</td><td>0.06595390871829357</td><td>0.23471056259590684</td><td>1.306695154962623</td><td>5.846127098442135</td><td>0.15958037847268886</td><td>3.4406024313886676</td><td>0.17127025358414363</td><td>-0.01588755017942585</td><td>0.2910152191664861</td><td>-9.075528255479947</td></tr>\n",
       "<tr><td>273</td><td>1299.4029952310084</td><td>744.9447881351911</td><td>234.4216700061627,40.32595270751698</td><td>234.42166812017382,40.3259496823598</td><td>1292.033790957994</td><td>None</td><td>None</td><td>None</td><td>None</td><td>1297.0</td><td>1303.0</td><td>742.0</td><td>748.0</td><td>16.54415606415437</td><td>100.01739666524094</td><td>1302.0</td><td>746.0</td><td>1299.0</td><td>745.0</td><td>34.0</td><td>3.2897623212397704</td><td>19.31370849898476</td><td>1.69286766851171</td><td>1.2799009040955818</td><td>0.6545081976590092</td><td>-0.64309090563138</td><td>0.2439450951173221</td><td>1.3226552642432452</td><td>2.424328666728086</td><td>-0.5891330141377127</td><td>2.079618600668875</td><td>0.44298087870302016</td><td>0.25098319489135623</td><td>0.516407788767958</td><td>-7.778184680112622</td></tr>\n",
       "<tr><td>...</td><td>...</td><td>...</td><td>...</td><td>...</td><td>...</td><td>...</td><td>...</td><td>...</td><td>...</td><td>...</td><td>...</td><td>...</td><td>...</td><td>...</td><td>...</td><td>...</td><td>...</td><td>...</td><td>...</td><td>...</td><td>...</td><td>...</td><td>...</td><td>...</td><td>...</td><td>...</td><td>...</td><td>...</td><td>...</td><td>...</td><td>...</td><td>...</td><td>...</td><td>...</td><td>...</td></tr>\n",
       "<tr><td>344</td><td>1159.116931123493</td><td>921.2390956499231</td><td>240.1321227381343,33.20448430424</td><td>240.13211961340832,33.20448076952063</td><td>1428.4418165487173</td><td>None</td><td>None</td><td>None</td><td>None</td><td>1156.0</td><td>1162.0</td><td>919.0</td><td>924.0</td><td>14.545499938597903</td><td>117.13187576808598</td><td>1161.0</td><td>923.0</td><td>1159.0</td><td>921.0</td><td>34.0</td><td>3.2897623212397704</td><td>19.071067811865476</td><td>1.5298793109238564</td><td>1.2586161372442488</td><td>0.5684905079020636</td><td>0.5300807091093651</td><td>0.1773101784844704</td><td>1.2155249449395593</td><td>2.147164746943591</td><td>0.32996171799732893</td><td>1.7774805399808966</td><td>0.4794065023069886</td><td>-0.17798877631819754</td><td>0.5791144927078415</td><td>-7.8871563883694495</td></tr>\n",
       "<tr><td>349</td><td>1411.2543531319775</td><td>939.3053776727177</td><td>229.02613666925035,33.35110229525645</td><td>229.02613394980077,33.351099779236556</td><td>9549.818345493093</td><td>None</td><td>None</td><td>None</td><td>None</td><td>1406.0</td><td>1418.0</td><td>935.0</td><td>945.0</td><td>8.726575150212762</td><td>492.29828687445973</td><td>1407.0</td><td>937.0</td><td>1410.0</td><td>939.0</td><td>110.0</td><td>5.917270272703197</td><td>36.970562748477136</td><td>2.5764810368972797</td><td>2.0091182131371377</td><td>0.6260392120859279</td><td>0.18528955201376845</td><td>0.2202084221211219</td><td>1.282393947777833</td><td>6.549949992415387</td><td>0.47110943902796426</td><td>4.12486053543526</td><td>0.1539374851436619</td><td>-0.03516308085977683</td><td>0.24444046555934704</td><td>-9.949987776524736</td></tr>\n",
       "<tr><td>373</td><td>532.2892590524449</td><td>1002.0902897627773</td><td>265.6049499949814,24.576505983204893</td><td>265.60494498025747,24.576500665393112</td><td>523.3266028139831</td><td>None</td><td>None</td><td>None</td><td>None</td><td>530.0</td><td>534.0</td><td>1001.0</td><td>1004.0</td><td>22.38358664331387</td><td>89.23619257062342</td><td>531.0</td><td>1003.0</td><td>532.0</td><td>1002.0</td><td>13.0</td><td>2.0342144725641096</td><td>11.071067811865476</td><td>1.0897877941954532</td><td>0.736458171140039</td><td>0.7371022219470292</td><td>0.35778925870638134</td><td>0.3242187377555127</td><td>1.4797687593152224</td><td>1.1084999251638634</td><td>0.21166497779269863</td><td>0.6215081490524592</td><td>0.9648655008310739</td><td>-0.6572021143011983</td><td>1.720899938472346</td><td>-6.796932030627381</td></tr>\n",
       "<tr><td>380</td><td>1365.1025835701714</td><td>1019.1770583310048</td><td>230.87191592526924,30.354330207887795</td><td>230.8719127553657,30.354327514954516</td><td>2024.7166940025108</td><td>None</td><td>None</td><td>None</td><td>None</td><td>1362.0</td><td>1369.0</td><td>1017.0</td><td>1022.0</td><td>13.874796885508026</td><td>161.97397546893222</td><td>1365.0</td><td>1022.0</td><td>1364.0</td><td>1019.0</td><td>43.0</td><td>3.6996385101659595</td><td>21.656854249492376</td><td>1.89885195274174</td><td>1.270133125852222</td><td>0.7433566386631189</td><td>0.19403865549546323</td><td>0.3311047109184658</td><td>1.4950023065241025</td><td>3.531559625082175</td><td>0.3769715552201436</td><td>1.6873172707360806</td><td>0.290078843338625</td><td>-0.12961578075013488</td><td>0.6071358060469119</td><td>-8.26591065919896</td></tr>\n",
       "<tr><td>417</td><td>1156.6384310664653</td><td>1094.531802928906</td><td>239.31137913660484,26.75304857153288</td><td>239.31137529351165,26.753045108007445</td><td>4030.4833465929833</td><td>None</td><td>None</td><td>None</td><td>None</td><td>1152.0</td><td>1161.0</td><td>1091.0</td><td>1100.0</td><td>9.710495858837714</td><td>260.83001526816855</td><td>1157.0</td><td>1091.0</td><td>1156.0</td><td>1093.0</td><td>69.0</td><td>4.686510657907603</td><td>28.97056274847714</td><td>2.0461962146044943</td><td>1.7233971033365643</td><td>0.5390960351181445</td><td>0.44177766596543017</td><td>0.15775569760318575</td><td>1.187303965315352</td><td>3.964488193961316</td><td>0.47030102664904033</td><td>3.192528330489305</td><td>0.25672578398512513</td><td>-0.07563810702784217</td><td>0.3188026023056466</td><td>-9.0133928276176</td></tr>\n",
       "<tr><td>429</td><td>722.0035017281771</td><td>1134.7903782473047</td><td>256.6738323335912,21.949225947761185</td><td>256.67382747719927,21.949221151463988</td><td>580.1592839601204</td><td>None</td><td>None</td><td>None</td><td>None</td><td>720.0</td><td>724.0</td><td>1133.0</td><td>1136.0</td><td>21.1426073106325</td><td>86.21116732717309</td><td>724.0</td><td>1136.0</td><td>723.0</td><td>1135.0</td><td>14.0</td><td>2.111004122822376</td><td>11.656854249492381</td><td>1.2081618719057123</td><td>0.6980960397532863</td><td>0.8161666033737799</td><td>0.39783968714179885</td><td>0.4221833547419155</td><td>1.730652808648919</td><td>1.3137101399762157</td><td>0.34728208183629</td><td>0.6332830494697211</td><td>0.8902608259667159</td><td>-0.9764089952443878</td><td>1.8467961131683421</td><td>-6.908868116010094</td></tr>\n",
       "<tr><td>446</td><td>1113.256057884817</td><td>1198.9541930416785</td><td>240.53819966518392,22.72858693263632</td><td>240.5381953649102,22.72858336295989</td><td>3820.0085834222446</td><td>None</td><td>None</td><td>None</td><td>None</td><td>1109.0</td><td>1117.0</td><td>1196.0</td><td>1204.0</td><td>12.392063573548686</td><td>247.05083732804727</td><td>1117.0</td><td>1198.0</td><td>1113.0</td><td>1197.0</td><td>66.0</td><td>4.583497844237541</td><td>27.899494936611664</td><td>2.0542177439687266</td><td>1.703246258384129</td><td>0.5590322402358762</td><td>1.3207095496195078</td><td>0.17085408137236924</td><td>1.2060603297127244</td><td>2.9818224671638696</td><td>0.31622468884157107</td><td>4.13903588917163</td><td>0.33810481252185565</td><td>-0.051662798776533174</td><td>0.2435756908683553</td><td>-8.955160846892314</td></tr>\n",
       "<tr><td>453</td><td>1078.3119497697035</td><td>1218.5918992262302</td><td>241.82135282917974,21.813303096598883</td><td>241.82134840464315,21.813299417649024</td><td>227.54643519730996</td><td>None</td><td>None</td><td>None</td><td>None</td><td>1077.0</td><td>1080.0</td><td>1218.0</td><td>1219.0</td><td>21.22714942989767</td><td>43.133802159171985</td><td>1079.0</td><td>1218.0</td><td>1078.0</td><td>1218.0</td><td>7.0</td><td>1.4927053303604616</td><td>7.207106781186548</td><td>1.0583132944091957</td><td>0.46116942725041044</td><td>0.900063436165411</td><td>0.17935845855107002</td><td>0.5642411092380176</td><td>2.294847038579906</td><td>1.0911497375354215</td><td>0.1592730562430687</td><td>0.2415545322182952</td><td>1.0140647117778343</td><td>-1.3372813533230758</td><td>4.580731456118425</td><td>-5.892675090308464</td></tr>\n",
       "<tr><td>463</td><td>764.1301556368636</td><td>1246.4653821909417</td><td>253.8627027583214,18.457952458567707</td><td>253.86269772050213,18.45794785116362</td><td>651.8277406724228</td><td>None</td><td>None</td><td>None</td><td>None</td><td>762.0</td><td>766.0</td><td>1245.0</td><td>1248.0</td><td>6.785732972520574</td><td>119.07400123181266</td><td>765.0</td><td>1245.0</td><td>764.0</td><td>1246.0</td><td>16.0</td><td>2.256758334191025</td><td>11.65685424949238</td><td>1.101494447663399</td><td>0.7710439827892117</td><td>0.714144738801858</td><td>0.14108023507762885</td><td>0.30000193425865385</td><td>1.428575376048977</td><td>1.2010555190579073</td><td>0.08614403663584135</td><td>0.6067433225708391</td><td>0.8411667090300244</td><td>-0.2388538714938143</td><td>1.6650993603812319</td><td>-7.035332098379698</td></tr>\n",
       "<tr><td>507</td><td>681.1321885006556</td><td>1356.2151231934004</td><td>255.79909673561994,14.108196194017914</td><td>255.7990913312448,14.108191455281991</td><td>1452.9288977028282</td><td>None</td><td>None</td><td>None</td><td>None</td><td>678.0</td><td>684.0</td><td>1354.0</td><td>1359.0</td><td>9.463570616434474</td><td>96.19777386935931</td><td>683.0</td><td>1354.0</td><td>681.0</td><td>1356.0</td><td>34.0</td><td>3.2897623212397704</td><td>19.071067811865476</td><td>1.641436372480313</td><td>1.2437170612251758</td><td>0.6526025157977514</td><td>-0.2124772822398154</td><td>0.24229956026511001</td><td>1.3197827895545207</td><td>2.6432834204677733</td><td>-0.23654143085135632</td><td>1.597862072816143</td><td>0.3833963720629368</td><td>0.11351308473221537</td><td>0.6342382681099309</td><td>-7.9056109041365294</td></tr>\n",
       "</table>"
      ],
      "text/plain": [
       "<QTable length=25>\n",
       "  id      xcentroid      ...         cyy               obs_mag      \n",
       "             pix         ...       1 / pix2                         \n",
       "int64      float64       ...       float64             float64      \n",
       "----- ------------------ ... ------------------- -------------------\n",
       "   79  398.4683022458725 ...   3.022287828542472  -6.207283345250553\n",
       "  218   1191.07912285869 ...   0.266247230424965   -9.16281728458147\n",
       "  245 1026.8677052665507 ... 0.24400399950501384  -9.710195629384145\n",
       "  250  584.7127189428252 ...  0.2901093913809559  -9.207335122068255\n",
       "  254  1221.242634493326 ...  0.9149548348770701  -6.650857399610732\n",
       "  259 1229.6795089657585 ...  0.2668594891215832  -8.950666739105243\n",
       "  268  962.5859842170292 ... 0.23910643762586056   -9.93183759937376\n",
       "  269  1331.785327806287 ...  0.2910152191664861  -9.075528255479947\n",
       "  273 1299.4029952310084 ...   0.516407788767958  -7.778184680112622\n",
       "  ...                ... ...                 ...                 ...\n",
       "  344  1159.116931123493 ...  0.5791144927078415 -7.8871563883694495\n",
       "  349 1411.2543531319775 ... 0.24444046555934704  -9.949987776524736\n",
       "  373  532.2892590524449 ...   1.720899938472346  -6.796932030627381\n",
       "  380 1365.1025835701714 ...  0.6071358060469119   -8.26591065919896\n",
       "  417 1156.6384310664653 ...  0.3188026023056466    -9.0133928276176\n",
       "  429  722.0035017281771 ...  1.8467961131683421  -6.908868116010094\n",
       "  446  1113.256057884817 ...  0.2435756908683553  -8.955160846892314\n",
       "  453 1078.3119497697035 ...   4.580731456118425  -5.892675090308464\n",
       "  463  764.1301556368636 ...  1.6650993603812319  -7.035332098379698\n",
       "  507  681.1321885006556 ...  0.6342382681099309 -7.9056109041365294"
      ]
     },
     "execution_count": 71,
     "metadata": {},
     "output_type": "execute_result"
    }
   ],
   "source": [
    "s_cat"
   ]
  },
  {
   "cell_type": "code",
   "execution_count": 72,
   "metadata": {},
   "outputs": [
    {
     "data": {
      "text/plain": [
       "'g_mag'"
      ]
     },
     "execution_count": 72,
     "metadata": {},
     "output_type": "execute_result"
    }
   ],
   "source": [
    "filt = im.header['FILTER']\n",
    "filt_col = f'{filt}_mag'\n",
    "filt_col"
   ]
  },
  {
   "cell_type": "code",
   "execution_count": 78,
   "metadata": {},
   "outputs": [
    {
     "data": {
      "text/plain": [
       "13.833715874986774"
      ]
     },
     "execution_count": 78,
     "metadata": {},
     "output_type": "execute_result"
    }
   ],
   "source": [
    "phot_off = p_cat[filt_col] - s_cat['obs_mag']\n",
    "cut = p_cat[filt_col] < 4.0\n",
    "zp = phot_off[cut].mean()\n",
    "zp"
   ]
  },
  {
   "cell_type": "code",
   "execution_count": 80,
   "metadata": {},
   "outputs": [
    {
     "data": {
      "text/plain": [
       "138.649853421859"
      ]
     },
     "execution_count": 80,
     "metadata": {},
     "output_type": "execute_result"
    }
   ],
   "source": [
    "pix_scales = proj_plane_pixel_scales(solved.wcs)\n",
    "pix_area = pix_scales[0] * pix_scales[1] * 3600.**2\n",
    "np.sqrt(pix_area)"
   ]
  },
  {
   "cell_type": "code",
   "execution_count": 81,
   "metadata": {},
   "outputs": [],
   "source": [
    "sky_mag = CCDData(zp + (-2.5 * np.log10(bkg_image.data/pix_area)), unit=u.adu)\n",
    "sky_mag.write(fitsfile.with_suffix(\".sky.fits\"), overwrite=True)"
   ]
  },
  {
   "cell_type": "code",
   "execution_count": 95,
   "metadata": {},
   "outputs": [
    {
     "name": "stderr",
     "output_type": "stream",
     "text": [
      "/Users/tim/conda/envs/py37/lib/python3.7/site-packages/ipykernel_launcher.py:1: RuntimeWarning: invalid value encountered in less_equal\n",
      "  \"\"\"Entry point for launching an IPython kernel.\n"
     ]
    }
   ],
   "source": [
    "mask = im.data <= 0\n",
    "im.data[mask] = 1"
   ]
  },
  {
   "cell_type": "code",
   "execution_count": 96,
   "metadata": {},
   "outputs": [],
   "source": [
    "orig_mag = CCDData(zp + (-2.5 * np.log10(im.data/pix_area)), unit=u.mag / u.arcsec**2)"
   ]
  },
  {
   "cell_type": "code",
   "execution_count": 97,
   "metadata": {},
   "outputs": [],
   "source": [
    "orig_mag.write(fitsfile.with_suffix(\".cal.fits\"), overwrite=True)"
   ]
  },
  {
   "cell_type": "code",
   "execution_count": null,
   "metadata": {},
   "outputs": [],
   "source": []
  }
 ],
 "metadata": {
  "kernelspec": {
   "display_name": "Python 3",
   "language": "python",
   "name": "python3"
  },
  "language_info": {
   "codemirror_mode": {
    "name": "ipython",
    "version": 3
   },
   "file_extension": ".py",
   "mimetype": "text/x-python",
   "name": "python",
   "nbconvert_exporter": "python",
   "pygments_lexer": "ipython3",
   "version": "3.7.3"
  }
 },
 "nbformat": 4,
 "nbformat_minor": 2
}
