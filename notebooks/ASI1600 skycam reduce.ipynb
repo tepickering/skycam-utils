{
 "cells": [
  {
   "cell_type": "code",
   "execution_count": 3,
   "metadata": {},
   "outputs": [],
   "source": [
    "from datetime import datetime\n",
    "\n",
    "import time\n",
    "import os\n",
    "import sys\n",
    "from pathlib import Path\n",
    "\n",
    "import numpy as np\n",
    "from scipy.stats import lognorm\n",
    "import pandas as pd\n",
    "\n",
    "from astropy import stats\n",
    "from astropy.io import fits\n",
    "from astropy.nddata import CCDData, Cutout2D\n",
    "import astropy.units as u\n",
    "from astropy.convolution import Gaussian2DKernel\n",
    "from astropy.stats import gaussian_fwhm_to_sigma\n",
    "from astropy.table import Table\n",
    "from astropy.wcs import WCS\n",
    "from astropy.coordinates import SkyCoord\n",
    "\n",
    "import ccdproc\n",
    "import photutils\n",
    "\n",
    "import matplotlib\n",
    "matplotlib.use('nbagg')\n",
    "import matplotlib.pyplot as plt\n",
    "\n",
    "from mmtwfs.wfs import wfs_norm\n",
    "from skycam_utils.photometry import make_background, make_segmentation_image, load_bright_star_catalog\n",
    "from skycam_utils.pipeline import process_image"
   ]
  },
  {
   "cell_type": "code",
   "execution_count": 4,
   "metadata": {},
   "outputs": [
    {
     "name": "stdout",
     "output_type": "stream",
     "text": [
      "The autoreload extension is already loaded. To reload it, use:\n",
      "  %reload_ext autoreload\n"
     ]
    }
   ],
   "source": [
    "%load_ext autoreload\n",
    "%autoreload 2"
   ]
  },
  {
   "cell_type": "code",
   "execution_count": 5,
   "metadata": {},
   "outputs": [
    {
     "name": "stdout",
     "output_type": "stream",
     "text": [
      "/Volumes/LaCie 8TB/sky_brightness/asi_skycam/Bias\n"
     ]
    }
   ],
   "source": [
    "%cd /Users/tim/MMT/sky_brightness/asi_skycam/Bias/"
   ]
  },
  {
   "cell_type": "code",
   "execution_count": null,
   "metadata": {},
   "outputs": [],
   "source": [
    "biases = ccdproc.ImageFileCollection('.', keywords=\"*\", glob_include=\"Bias*\")"
   ]
  },
  {
   "cell_type": "code",
   "execution_count": null,
   "metadata": {},
   "outputs": [],
   "source": [
    "for h in biases.hdus(save_location='reduced', overwrite=True, ccd_kwargs={'unit': 'adu', 'gain': 1.0}):\n",
    "    h.header['fixscale'] = True\n",
    "    h.data = h.data / 16"
   ]
  },
  {
   "cell_type": "code",
   "execution_count": null,
   "metadata": {},
   "outputs": [],
   "source": [
    "scaled_biases = ccdproc.ImageFileCollection('./reduced', keywords=\"*\", glob_include=\"Bias_*\")"
   ]
  },
  {
   "cell_type": "code",
   "execution_count": null,
   "metadata": {},
   "outputs": [],
   "source": [
    "bias = ccdproc.combine(\n",
    "    list(scaled_biases.ccds(ccd_kwargs={'unit': 'adu'})),\n",
    "    method='average',\n",
    "    mem_limit=1e9,\n",
    "    clip_extreme=True,\n",
    "    nlow=2,\n",
    "    nhigh=2,\n",
    "    dtype=np.float64\n",
    ")\n",
    "bias.write(\"./bias.fits\", overwrite=True)"
   ]
  },
  {
   "cell_type": "code",
   "execution_count": 6,
   "metadata": {},
   "outputs": [
    {
     "name": "stdout",
     "output_type": "stream",
     "text": [
      "/Volumes/LaCie 8TB/sky_brightness/asi_skycam/Light\n"
     ]
    }
   ],
   "source": [
    "%cd ../Light"
   ]
  },
  {
   "cell_type": "code",
   "execution_count": null,
   "metadata": {},
   "outputs": [],
   "source": [
    "filters = ['clear', 'u', 'g', 'r', 'i']\n",
    "#filters = ['u']\n",
    "for f in filters:\n",
    "    rpath = f\"{f}/reduced\"\n",
    "    if not Path.exists(Path(rpath)):\n",
    "        Path.mkdir(Path(rpath))\n",
    "    ic = ccdproc.ImageFileCollection(f\"./{f}\", keywords=\"*\", glob_include=\"Light_*\")\n",
    "    for h in ic.hdus(save_location=rpath, overwrite=True, ccd_kwargs={'unit': u.adu, 'gain': 1.0}):\n",
    "        h.header['fixscale'] = True\n",
    "        h.data = h.data / 16\n",
    "        h.data = h.data - bias.data"
   ]
  },
  {
   "cell_type": "code",
   "execution_count": null,
   "metadata": {},
   "outputs": [],
   "source": [
    "test_im = CCDData.read(Path(\"./r/reduced/Light_024.fits\"), unit=u.adu)\n",
    "test_im.header['FILTER']"
   ]
  },
  {
   "cell_type": "code",
   "execution_count": null,
   "metadata": {},
   "outputs": [],
   "source": [
    "Cutout2D(test_im, (300, 300), (100, 100), copy=True).data"
   ]
  },
  {
   "cell_type": "code",
   "execution_count": 9,
   "metadata": {},
   "outputs": [],
   "source": [
    "g_cat = process_image(\"./g/reduced/Light_024.fits\")"
   ]
  },
  {
   "cell_type": "code",
   "execution_count": null,
   "metadata": {},
   "outputs": [],
   "source": []
  }
 ],
 "metadata": {
  "kernelspec": {
   "display_name": "Python 3",
   "language": "python",
   "name": "python3"
  },
  "language_info": {
   "codemirror_mode": {
    "name": "ipython",
    "version": 3
   },
   "file_extension": ".py",
   "mimetype": "text/x-python",
   "name": "python",
   "nbconvert_exporter": "python",
   "pygments_lexer": "ipython3",
   "version": "3.7.3"
  }
 },
 "nbformat": 4,
 "nbformat_minor": 2
}
